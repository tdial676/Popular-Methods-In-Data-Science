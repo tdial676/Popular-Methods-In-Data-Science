{
 "cells": [
  {
   "cell_type": "code",
   "execution_count": 7,
   "metadata": {
    "collapsed": true,
    "jupyter": {
     "outputs_hidden": true
    },
    "tags": []
   },
   "outputs": [
    {
     "name": "stdout",
     "output_type": "stream",
     "text": [
      "Requirement already satisfied: selenium in /opt/anaconda3/lib/python3.11/site-packages (4.21.0)\n",
      "Requirement already satisfied: urllib3<3,>=1.26 in /opt/anaconda3/lib/python3.11/site-packages (from urllib3[socks]<3,>=1.26->selenium) (2.0.7)\n",
      "Requirement already satisfied: trio~=0.17 in /opt/anaconda3/lib/python3.11/site-packages (from selenium) (0.25.1)\n",
      "Requirement already satisfied: trio-websocket~=0.9 in /opt/anaconda3/lib/python3.11/site-packages (from selenium) (0.11.1)\n",
      "Requirement already satisfied: certifi>=2021.10.8 in /opt/anaconda3/lib/python3.11/site-packages (from selenium) (2024.2.2)\n",
      "Requirement already satisfied: typing_extensions>=4.9.0 in /opt/anaconda3/lib/python3.11/site-packages (from selenium) (4.9.0)\n",
      "Requirement already satisfied: attrs>=23.2.0 in /opt/anaconda3/lib/python3.11/site-packages (from trio~=0.17->selenium) (23.2.0)\n",
      "Requirement already satisfied: sortedcontainers in /opt/anaconda3/lib/python3.11/site-packages (from trio~=0.17->selenium) (2.4.0)\n",
      "Requirement already satisfied: idna in /opt/anaconda3/lib/python3.11/site-packages (from trio~=0.17->selenium) (3.4)\n",
      "Requirement already satisfied: outcome in /opt/anaconda3/lib/python3.11/site-packages (from trio~=0.17->selenium) (1.3.0.post0)\n",
      "Requirement already satisfied: sniffio>=1.3.0 in /opt/anaconda3/lib/python3.11/site-packages (from trio~=0.17->selenium) (1.3.0)\n",
      "Requirement already satisfied: wsproto>=0.14 in /opt/anaconda3/lib/python3.11/site-packages (from trio-websocket~=0.9->selenium) (1.2.0)\n",
      "Requirement already satisfied: pysocks!=1.5.7,<2.0,>=1.5.6 in /opt/anaconda3/lib/python3.11/site-packages (from urllib3[socks]<3,>=1.26->selenium) (1.7.1)\n",
      "Requirement already satisfied: h11<1,>=0.9.0 in /opt/anaconda3/lib/python3.11/site-packages (from wsproto>=0.14->trio-websocket~=0.9->selenium) (0.14.0)\n",
      "Collecting webdriver_manager\n",
      "  Downloading webdriver_manager-4.0.1-py2.py3-none-any.whl.metadata (12 kB)\n",
      "Requirement already satisfied: requests in /opt/anaconda3/lib/python3.11/site-packages (from webdriver_manager) (2.31.0)\n",
      "Requirement already satisfied: python-dotenv in /opt/anaconda3/lib/python3.11/site-packages (from webdriver_manager) (0.21.0)\n",
      "Requirement already satisfied: packaging in /opt/anaconda3/lib/python3.11/site-packages (from webdriver_manager) (23.1)\n",
      "Requirement already satisfied: charset-normalizer<4,>=2 in /opt/anaconda3/lib/python3.11/site-packages (from requests->webdriver_manager) (2.0.4)\n",
      "Requirement already satisfied: idna<4,>=2.5 in /opt/anaconda3/lib/python3.11/site-packages (from requests->webdriver_manager) (3.4)\n",
      "Requirement already satisfied: urllib3<3,>=1.21.1 in /opt/anaconda3/lib/python3.11/site-packages (from requests->webdriver_manager) (2.0.7)\n",
      "Requirement already satisfied: certifi>=2017.4.17 in /opt/anaconda3/lib/python3.11/site-packages (from requests->webdriver_manager) (2024.2.2)\n",
      "Downloading webdriver_manager-4.0.1-py2.py3-none-any.whl (27 kB)\n",
      "Installing collected packages: webdriver_manager\n",
      "Successfully installed webdriver_manager-4.0.1\n"
     ]
    }
   ],
   "source": [
    "!pip install selenium\n",
    "!pip install webdriver_manager"
   ]
  },
  {
   "cell_type": "code",
   "execution_count": 499,
   "metadata": {
    "tags": []
   },
   "outputs": [],
   "source": [
    "## Input your Part 1 code here.\n",
    "from selenium import webdriver\n",
    "from selenium.webdriver.chrome.service import Service\n",
    "from webdriver_manager.chrome import ChromeDriverManager\n",
    "from selenium.webdriver.common.by import By\n",
    "from selenium.webdriver.common.keys import Keys\n",
    "from selenium.webdriver.support.ui import WebDriverWait\n",
    "from selenium.webdriver.support import expected_conditions as EC\n",
    "# Setup ChromeDriver\n",
    "service = Service()\n",
    "options = webdriver.ChromeOptions()\n",
    "driver = webdriver.Chrome(service=service, options=options)"
   ]
  },
  {
   "cell_type": "code",
   "execution_count": 501,
   "metadata": {
    "tags": []
   },
   "outputs": [],
   "source": [
    "# Step 1\n",
    "url = \"https://en.wikipedia.org/wiki/Main_Page\"\n",
    "driver.get(url)"
   ]
  },
  {
   "cell_type": "code",
   "execution_count": 503,
   "metadata": {
    "tags": []
   },
   "outputs": [],
   "source": [
    "# Step 2\n",
    "search = driver.find_element(\"name\", \"search\")\n",
    "search.send_keys(\"Caltech \\n\")"
   ]
  },
  {
   "cell_type": "code",
   "execution_count": 505,
   "metadata": {
    "tags": []
   },
   "outputs": [],
   "source": [
    "# Step 3\n",
    "sporting_aff = driver.find_element(\"link text\", \"SCIAC\")\n",
    "sporting_aff.click()"
   ]
  },
  {
   "cell_type": "code",
   "execution_count": 507,
   "metadata": {
    "tags": []
   },
   "outputs": [
    {
     "data": {
      "text/html": [
       "<div>\n",
       "<style scoped>\n",
       "    .dataframe tbody tr th:only-of-type {\n",
       "        vertical-align: middle;\n",
       "    }\n",
       "\n",
       "    .dataframe tbody tr th {\n",
       "        vertical-align: top;\n",
       "    }\n",
       "\n",
       "    .dataframe thead th {\n",
       "        text-align: right;\n",
       "    }\n",
       "</style>\n",
       "<table border=\"1\" class=\"dataframe\">\n",
       "  <thead>\n",
       "    <tr style=\"text-align: right;\">\n",
       "      <th></th>\n",
       "      <th>years</th>\n",
       "      <th>description</th>\n",
       "    </tr>\n",
       "  </thead>\n",
       "  <tbody>\n",
       "    <tr>\n",
       "      <th>0</th>\n",
       "      <td>1915</td>\n",
       "      <td>The Southern California Intercollegiate Athle...</td>\n",
       "    </tr>\n",
       "    <tr>\n",
       "      <th>1</th>\n",
       "      <td>1920</td>\n",
       "      <td>The Southern Branch of the University of Cali...</td>\n",
       "    </tr>\n",
       "    <tr>\n",
       "      <th>2</th>\n",
       "      <td>1926</td>\n",
       "      <td>La Verne College (now the University of La Ve...</td>\n",
       "    </tr>\n",
       "    <tr>\n",
       "      <th>3</th>\n",
       "      <td>1927</td>\n",
       "      <td>UCLA left the SCIAC, effective after the 1926...</td>\n",
       "    </tr>\n",
       "    <tr>\n",
       "      <th>4</th>\n",
       "      <td>1931</td>\n",
       "      <td>Santa Barbara State College (now the Universi...</td>\n",
       "    </tr>\n",
       "    <tr>\n",
       "      <th>5</th>\n",
       "      <td>1934</td>\n",
       "      <td>Caltech and Pomona left the SCIAC, effective ...</td>\n",
       "    </tr>\n",
       "    <tr>\n",
       "      <th>6</th>\n",
       "      <td>1938</td>\n",
       "      <td>La Verne and UC Santa Barbara left the SCIAC,...</td>\n",
       "    </tr>\n",
       "    <tr>\n",
       "      <th>7</th>\n",
       "      <td>1938</td>\n",
       "      <td>Caltech and Pomona re-joined the SCIAC, effec...</td>\n",
       "    </tr>\n",
       "    <tr>\n",
       "      <th>8</th>\n",
       "      <td>1939</td>\n",
       "      <td>San Diego State left the SCIAC, effective aft...</td>\n",
       "    </tr>\n",
       "    <tr>\n",
       "      <th>9</th>\n",
       "      <td>1943</td>\n",
       "      <td>Whittier left the SCIAC, effective after the ...</td>\n",
       "    </tr>\n",
       "    <tr>\n",
       "      <th>10</th>\n",
       "      <td>1946</td>\n",
       "      <td>Whittier re-joined the SCIAC, effective in th...</td>\n",
       "    </tr>\n",
       "    <tr>\n",
       "      <th>11</th>\n",
       "      <td>1947</td>\n",
       "      <td>Claremont Men's College (now Claremont McKenn...</td>\n",
       "    </tr>\n",
       "    <tr>\n",
       "      <th>12</th>\n",
       "      <td>1950</td>\n",
       "      <td>Chapman College (now Chapman University) join...</td>\n",
       "    </tr>\n",
       "    <tr>\n",
       "      <th>13</th>\n",
       "      <td>1952</td>\n",
       "      <td>Chapman left the SCIAC, effective after the 1...</td>\n",
       "    </tr>\n",
       "    <tr>\n",
       "      <th>14</th>\n",
       "      <td>1958</td>\n",
       "      <td>Claremont combined with Harvey Mudd College f...</td>\n",
       "    </tr>\n",
       "    <tr>\n",
       "      <th>15</th>\n",
       "      <td>1971</td>\n",
       "      <td>Pomona combined with Pitzer College for athle...</td>\n",
       "    </tr>\n",
       "    <tr>\n",
       "      <th>16</th>\n",
       "      <td>1976</td>\n",
       "      <td>Claremont–Mudd combined with Scripps College ...</td>\n",
       "    </tr>\n",
       "    <tr>\n",
       "      <th>17</th>\n",
       "      <td>1991</td>\n",
       "      <td>California Lutheran University joined the SCI...</td>\n",
       "    </tr>\n",
       "    <tr>\n",
       "      <th>18</th>\n",
       "      <td>2011</td>\n",
       "      <td>Chapman re-joined back to the SCIAC, effectiv...</td>\n",
       "    </tr>\n",
       "    <tr>\n",
       "      <th>19</th>\n",
       "      <td>2020</td>\n",
       "      <td>Occidental dropped its football program befor...</td>\n",
       "    </tr>\n",
       "    <tr>\n",
       "      <th>20</th>\n",
       "      <td>2023</td>\n",
       "      <td>Whittier dropped its football program after t...</td>\n",
       "    </tr>\n",
       "  </tbody>\n",
       "</table>\n",
       "</div>"
      ],
      "text/plain": [
       "   years                                        description\n",
       "0   1915   The Southern California Intercollegiate Athle...\n",
       "1   1920   The Southern Branch of the University of Cali...\n",
       "2   1926   La Verne College (now the University of La Ve...\n",
       "3   1927   UCLA left the SCIAC, effective after the 1926...\n",
       "4   1931   Santa Barbara State College (now the Universi...\n",
       "5   1934   Caltech and Pomona left the SCIAC, effective ...\n",
       "6   1938   La Verne and UC Santa Barbara left the SCIAC,...\n",
       "7   1938   Caltech and Pomona re-joined the SCIAC, effec...\n",
       "8   1939   San Diego State left the SCIAC, effective aft...\n",
       "9   1943   Whittier left the SCIAC, effective after the ...\n",
       "10  1946   Whittier re-joined the SCIAC, effective in th...\n",
       "11  1947   Claremont Men's College (now Claremont McKenn...\n",
       "12  1950   Chapman College (now Chapman University) join...\n",
       "13  1952   Chapman left the SCIAC, effective after the 1...\n",
       "14  1958   Claremont combined with Harvey Mudd College f...\n",
       "15  1971   Pomona combined with Pitzer College for athle...\n",
       "16  1976   Claremont–Mudd combined with Scripps College ...\n",
       "17  1991   California Lutheran University joined the SCI...\n",
       "18  2011   Chapman re-joined back to the SCIAC, effectiv...\n",
       "19  2020   Occidental dropped its football program befor...\n",
       "20  2023   Whittier dropped its football program after t..."
      ]
     },
     "metadata": {},
     "output_type": "display_data"
    }
   ],
   "source": [
    "# Step 4\n",
    "import pandas as pd\n",
    "\n",
    "timeline = driver.find_element(\"id\", \"mw-content-text\")\n",
    "ul_time = timeline.find_elements(\"tag name\", \"ul\")[2]\n",
    "items = ul_time.find_elements(\"tag name\", \"li\")\n",
    "\n",
    "years = []\n",
    "descs = []\n",
    "\n",
    "for item in items:\n",
    "    years.append(item.text[:4])\n",
    "    descs.append(item.text[6:])\n",
    "\n",
    "df = pd.DataFrame({'years': years, 'description': descs})\n",
    "display(df)\n"
   ]
  },
  {
   "cell_type": "code",
   "execution_count": 509,
   "metadata": {
    "tags": []
   },
   "outputs": [],
   "source": [
    "# Step 5\n",
    "driver.back()\n",
    "driver.implicitly_wait(2)"
   ]
  },
  {
   "cell_type": "code",
   "execution_count": 511,
   "metadata": {
    "tags": []
   },
   "outputs": [],
   "source": [
    "# Step 6\n",
    "import requests as rq\n",
    "main_pg = driver.find_element(\"id\", \"mw-content-text\")\n",
    "imgs = main_pg.find_elements(\"tag name\", \"img\")\n",
    "img_url = imgs[8].get_attribute(\"src\")\n",
    "\n",
    "image_response = rq.get(img_url)\n",
    "image_filename = 'img.jpg'\n",
    "with open(image_filename, 'wb') as file:\n",
    "    file.write(image_response.content)\n"
   ]
  },
  {
   "cell_type": "code",
   "execution_count": 513,
   "metadata": {
    "tags": []
   },
   "outputs": [],
   "source": [
    "# Step 7\n",
    "url_2 = \"https://tineye.com/\"\n",
    "driver.get(url_2)"
   ]
  },
  {
   "cell_type": "code",
   "execution_count": 515,
   "metadata": {
    "tags": []
   },
   "outputs": [],
   "source": [
    "# Step 8\n",
    "import os\n",
    "\n",
    "upload = driver.find_element(\"id\", \"upload_box\")\n",
    "upload.send_keys(os.path.abspath(image_filename))"
   ]
  },
  {
   "cell_type": "code",
   "execution_count": 517,
   "metadata": {
    "tags": []
   },
   "outputs": [],
   "source": [
    "# Step 9\n",
    "results = []\n",
    "i = 0\n",
    "for i in range(9):\n",
    "    elements = driver.find_elements(By.CSS_SELECTOR, \".match h4 a\")\n",
    "    for elem in elements:\n",
    "        result = elem.get_attribute('href')\n",
    "        if result != None:\n",
    "            results.append(result)\n",
    "    # Next page\n",
    "    next_button = driver.find_element(By.CSS_SELECTOR, \".next\")\n",
    "    next_button.click()\n",
    "    driver.implicitly_wait(1)\n",
    "        "
   ]
  },
  {
   "cell_type": "code",
   "execution_count": 519,
   "metadata": {
    "tags": []
   },
   "outputs": [
    {
     "data": {
      "text/plain": [
       "['https://www.alamy.com/stock-image-tolman-26-einstein-169783437.html',\n",
       " 'http://www.yoka.com/dna/li/c172.html',\n",
       " 'https://fa.wikipedia.org/wiki/%D8%B1%DB%8C%DA%86%D8%A7%D8%B1%D8%AF_%D8%B3%DB%8C_%D8%AA%D9%88%D9%84%D9%85%D8%A7%D9%86',\n",
       " 'http://www.yoka.com/dna/m/t54262',\n",
       " 'http://wemedia.ifeng.com/8815421/wemedia.shtml',\n",
       " 'http://www.wow.com/wiki/Richard_C._Tolman',\n",
       " 'http://physicswiki.net/index.php/Richard_C._Tolman',\n",
       " 'http://forum.physicswiki.net/index.php/Richard_C._Tolman',\n",
       " 'https://infogalactic.com/info/Science_communication',\n",
       " 'http://www.zirozebar.com/pedia-en/wiki/California_Institute_of_Technology',\n",
       " 'http://www.wikivisually.com/lang-pt/wiki/4_de_mar%C3%A7o',\n",
       " 'http://wikivisually.com/wiki/Willem_de_Sitter',\n",
       " 'https://epo.wikitrans.net/California_Institute_of_Technology',\n",
       " 'http://www.wikipediatldr.com/wiki/California_Institute_of_Technology',\n",
       " 'https://en.wikipedia.org/wiki/California_Institute_of_Technology#People',\n",
       " 'http://en.wikipedia.org/wiki/Caltech',\n",
       " 'http://en.wikipedia_org.nx11xuan539.trade/wiki/California_Institute_of_Technology',\n",
       " 'http://www.mashpedia.com/California_Institute_of_Technology',\n",
       " 'http://www.like2do.com/learn?s=California_Institute_of_Technology',\n",
       " 'http://www.digplanet.com/wiki/California_Institute_of_Technology',\n",
       " 'http://enhancedwiki.altervista.org/en.php?title=California_Institute_of_Technology',\n",
       " 'https://hubpages.com/health/The-Greatest-People-in-History-and-What-We-Can-Learn-from-Them-Sir-Isaac-Newton',\n",
       " 'https://yargpm.ru/bg/bytovaya-tehnika-i-oborudovanie/on-priobrel-slavu-tvorca-smerti-robert-oppengeimer-robert/',\n",
       " 'https://ga.tristarhistory.org/albert-einsteins-academic-career',\n",
       " 'https://gd.tristarhistory.org/albert-einsteins-academic-career',\n",
       " 'https://th.tristarhistory.org/albert-einsteins-academic-career',\n",
       " 'https://hy.tristarhistory.org/albert-einsteins-academic-career',\n",
       " 'https://tristarhistory.org/albert-einsteins-academic-career',\n",
       " 'https://is.tristarhistory.org/albert-einsteins-academic-career',\n",
       " 'https://sr.tristarhistory.org/albert-einsteins-academic-career',\n",
       " 'https://az.tristarhistory.org/albert-einsteins-academic-career',\n",
       " 'https://de.tristarhistory.org/albert-einsteins-academic-career',\n",
       " 'https://ms.tristarhistory.org/albert-einsteins-academic-career',\n",
       " 'https://et.tristarhistory.org/albert-einsteins-academic-career',\n",
       " 'https://bg.tristarhistory.org/albert-einsteins-academic-career',\n",
       " 'https://nl.tristarhistory.org/albert-einsteins-academic-career',\n",
       " 'https://cs.tristarhistory.org/albert-einsteins-academic-career',\n",
       " 'https://pt.tristarhistory.org/albert-einsteins-academic-career',\n",
       " 'https://lv.tristarhistory.org/albert-einsteins-academic-career',\n",
       " 'https://tl.tristarhistory.org/albert-einsteins-academic-career',\n",
       " 'https://iw.tristarhistory.org/albert-einsteins-academic-career',\n",
       " 'https://zh.tristarhistory.org/albert-einsteins-academic-career',\n",
       " 'http://www.protec.com.pa/wp/?cat=1&paged=308',\n",
       " 'https://dic.academic.ru/dic.nsf/ruwiki/103127',\n",
       " 'https://hubpages.com/health/The-Greatest-People-in-History-and-What-We-Can-Learn-from-Them-Sir-Isaac-Newton',\n",
       " 'https://en.wikipedia.org/wiki/Richard_Tolman',\n",
       " 'http://commons.wikimedia.org/wiki/File:Tolman_&_Einstein.jpg',\n",
       " 'http://wikidi.com/view/albert-einstein',\n",
       " 'http://thinkapps.com/blog/author/benji/',\n",
       " 'http://www.scientificblogging.com/rational_mystic_amateur_astronomer/blog/thermodynamics_relativity_chapter_richard_tolman',\n",
       " 'https://readtiger.com/wkp/en/Caltech',\n",
       " 'https://namu.wiki/w/%EC%B9%BC%ED%85%8D',\n",
       " 'https://namu.moe/w/%EC%BA%98%EB%A6%AC%ED%8F%AC%EB%8B%88%EC%95%84%20%EA%B3%B5%EA%B3%BC%EB%8C%80%ED%95%99%EA%B5%90',\n",
       " 'https://courses.lumenlearning.com/boundless-physics/chapter/relativistic-quantities/',\n",
       " 'https://hyperleap.com/topic/Jesse_E._Hobson',\n",
       " 'https://howlingpixel.com/wiki/California_Institute_of_Technology',\n",
       " 'https://www.everipedia.com/California_Institute_of_Technology',\n",
       " 'http://datab.us/i/California%20Institute%20of%20Technology',\n",
       " 'https://www.kiss.caltech.edu/Tolman-Bacher/big_science.html',\n",
       " 'https://www.kiss.caltech.edu/Tolman-Bacher/big_science.html',\n",
       " 'http://technocracytechnatepicturearchive.blogspot.ca/',\n",
       " 'http://adevarul.ro/tech/stiinta/olandezii-contrazic-einstein-urma-dumnezeu-joaca-zaruri-1_5629f3e5f5eaafab2cf3b6df/index.html',\n",
       " 'https://dic.academic.ru/dic.nsf/ruwiki/103127',\n",
       " 'https://loftyambitions.wordpress.com/tag/einstein/',\n",
       " 'http://waterandpower.org/museum/Early_Views_of_Pasadena.html',\n",
       " 'http://kids.top222.info/albert-einstein-for-kids/',\n",
       " 'http://www.teamliquid.net/forum/general/253940-could-a-technocracy-be-better-than-democracy?view=all',\n",
       " 'https://sarathorneenglishlanguage.com/2013/05/31/ism-and-ist-helpful-suffixes/',\n",
       " 'http://www.roomforkidideas.co/albert-einstein-kid-facts/',\n",
       " 'https://readtiger.com/waterandpower.org/museum/Early_Views_of_Pasadena.html',\n",
       " 'http://ookaboo.com/o/pictures/topic/2545461/Richard_C_Tolman',\n",
       " 'https://medium.com/@editors_91459/turns-out-einstein-was-a-cold-hearted-misogynist-who-attempted-to-control-his-wifes-every-move-c3f1ff70bf8c?source=grid_home---------0------------------18',\n",
       " 'https://courses.lumenlearning.com/boundless-physics/chapter/relativistic-quantities/',\n",
       " 'http://www.ftm.nl/exclusive/de-geldstromen-in-de-wetenschap/',\n",
       " 'http://difundelo.net/Xataka/2016/03/',\n",
       " 'https://thecuriousastronomer.wordpress.com/2016/03/',\n",
       " 'http://www.vortl.com/main.pl?crypt=ZZeXY5YlaHw211365m&encode_label&page=articles&redir=comments&rss_id=180279284&t=Is-this-Bill-Belichick?',\n",
       " 'http://vortl.com/main.pl?crypt=OZ5VNGq2KEM351403it&encode_label&page=articles&redir=comments&rss_id=181633226&t=Arctic-Sea-Ice-Sets-Record-Low-Peak-for-Third-Year',\n",
       " 'http://www.fotonostra.com/fotografia/fotografiacientifica.htm',\n",
       " 'https://wikivisually.com/wiki/Arthur_W._Adamson',\n",
       " 'https://kids.kiddle.co/California_Institute_of_Technology',\n",
       " 'http://fw.adwzw.com/2014-11-04/aiyinsitanshigezenyangderen.html',\n",
       " 'http://zhongyi.xbxys.com/html/2295467.html',\n",
       " 'https://questcosmic.wordpress.com/2013/02/03/o-discreto-charme-do-modelo-ciclico/',\n",
       " 'http://wikidi.com/view/albert-einstein',\n",
       " 'http://adevarul.ro/tech/stiinta/cum-ajuns-engleza-limba-oficiala-stiintei-1_5280deb2c7b855ff56e29075/index.html',\n",
       " 'http://www.taringa.net/posts/noticias/17287187/La-ciencia-ha-confirmado-que-Dios-existe.html?notification',\n",
       " 'https://pantip.com/topic/39395960',\n",
       " 'http://framework.latimes.com/2012/07/25/dr-tolman-and-professor-einstein/',\n",
       " 'http://framework.latimes.com/2012/07/24/girls-dare-club/',\n",
       " 'http://adevarul.ro/tech/stiinta/olandezii-contrazic-einstein-urma-dumnezeu-joaca-zaruri-1_5629f3e5f5eaafab2cf3b6df/index.html',\n",
       " 'http://adevarul.ro/tech/stiinta/',\n",
       " 'https://www.reddit.com/u/maxbaby',\n",
       " 'http://www.publimetro.com.mx/entretenimiento/fotos-chabelo-el-inmortal-el-meme-de-moda/mllr%21ZHGhkEI0byr8/',\n",
       " 'http://adevarul.ro/continut/stiri/loteria-romana',\n",
       " 'https://commons.wikimedia.org/wiki/Category:Scientists_at_blackboards',\n",
       " 'https://www.ambebi.ge/article/77258-ainshtainis-mokherkhebuli-mdzgholi/',\n",
       " 'http://en.wikipedia.org/wiki/Science_communication',\n",
       " 'http://www.answers.com/topic/science-communication',\n",
       " 'https://adevarul.ro/continut/stiri/big-bang',\n",
       " 'http://tendencias21.net/TENDENCIAS-DE-LAS-RELIGIONES_r18.html',\n",
       " 'http://www.taringa.net/post/humor/18489189/Chabelo-yo-te-re---banco.html?dr',\n",
       " 'http://www.taringa.net/posts/deportes/17297702/No-quieren-que-los-hinchas-argentinos-vayamos-al-Mundial.html',\n",
       " 'http://4-pics-1-word.games-answers.net/games/1-word-4-pics-windows/1w4pwalbum-3/page/3',\n",
       " 'http://math-blog.com/category/history/',\n",
       " 'http://wildup.la/events/past-events/',\n",
       " 'https://blogs.mediapart.fr/edition/la-mendie-bulles/article/060513/le-paradis/commentaires',\n",
       " 'https://defenceforumindia.com/threads/indian-special-forces.82568/page-1198',\n",
       " 'http://linkiesta.it/cultura',\n",
       " 'https://defenceforumindia.com/threads/indian-special-forces.82568/page-1198']"
      ]
     },
     "execution_count": 519,
     "metadata": {},
     "output_type": "execute_result"
    }
   ],
   "source": [
    "results"
   ]
  },
  {
   "cell_type": "code",
   "execution_count": 521,
   "metadata": {
    "tags": []
   },
   "outputs": [
    {
     "name": "stdout",
     "output_type": "stream",
     "text": [
      "110\n"
     ]
    }
   ],
   "source": [
    "print(len(results))\n"
   ]
  }
 ],
 "metadata": {
  "kernelspec": {
   "display_name": "Python 3 (ipykernel)",
   "language": "python",
   "name": "python3"
  },
  "language_info": {
   "codemirror_mode": {
    "name": "ipython",
    "version": 3
   },
   "file_extension": ".py",
   "mimetype": "text/x-python",
   "name": "python",
   "nbconvert_exporter": "python",
   "pygments_lexer": "ipython3",
   "version": "3.11.7"
  }
 },
 "nbformat": 4,
 "nbformat_minor": 4
}
