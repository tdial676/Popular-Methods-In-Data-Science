{
 "cells": [
  {
   "cell_type": "code",
   "execution_count": null,
   "metadata": {},
   "outputs": [],
   "source": [
    "################################## RECEIVED EXTENSION ##################################"
   ]
  },
  {
   "cell_type": "code",
   "execution_count": 10,
   "metadata": {},
   "outputs": [],
   "source": [
    "## Import necessary packages\n",
    "import numpy as np\n",
    "import pandas as pd\n",
    "import statsmodels.formula.api as smf"
   ]
  },
  {
   "cell_type": "code",
   "execution_count": 11,
   "metadata": {},
   "outputs": [],
   "source": [
    "## Import data\n",
    "data = pd.read_excel('hw3-dataset.xlsx')"
   ]
  },
  {
   "cell_type": "code",
   "execution_count": 17,
   "metadata": {},
   "outputs": [
    {
     "name": "stdout",
     "output_type": "stream",
     "text": [
      "The correlation between x1 and x2:  0.013459742754288939\n",
      "The correlation between x1 and y1:  0.2911798222667594\n",
      "                            OLS Regression Results                            \n",
      "==============================================================================\n",
      "Dep. Variable:                     y1   R-squared:                       0.085\n",
      "Model:                            OLS   Adj. R-squared:                  0.085\n",
      "Method:                 Least Squares   F-statistic:                     426.8\n",
      "Date:                Mon, 29 Apr 2024   Prob (F-statistic):           9.13e-91\n",
      "Time:                        22:55:55   Log-Likelihood:                -29065.\n",
      "No. Observations:                4626   AIC:                         5.813e+04\n",
      "Df Residuals:                    4624   BIC:                         5.815e+04\n",
      "Df Model:                           1                                         \n",
      "Covariance Type:                  HC3                                         \n",
      "==============================================================================\n",
      "                 coef    std err          z      P>|z|      [0.025      0.975]\n",
      "------------------------------------------------------------------------------\n",
      "Intercept    222.2364      3.860     57.572      0.000     214.671     229.802\n",
      "x1             1.3594      0.066     20.659      0.000       1.230       1.488\n",
      "==============================================================================\n",
      "Omnibus:                     2885.975   Durbin-Watson:                   2.008\n",
      "Prob(Omnibus):                  0.000   Jarque-Bera (JB):              260.595\n",
      "Skew:                          -0.002   Prob(JB):                     2.59e-57\n",
      "Kurtosis:                       1.837   Cond. No.                         118.\n",
      "==============================================================================\n",
      "\n",
      "Notes:\n",
      "[1] Standard Errors are heteroscedasticity robust (HC3)\n"
     ]
    }
   ],
   "source": [
    "# Part 1\n",
    "# The (artificially created) model of the world is\n",
    "#                    y1 = 1.3x1 + 4.5x2 + error\n",
    "\n",
    "\n",
    "# Question 1: What is the correlation between x1 and x2?\n",
    "print(\"The correlation between x1 and x2: \", np.corrcoef(data.x1, data.x2)[0, 1])\n",
    "print(\"The correlation between x1 and y1: \", np.corrcoef(data.x1, data.y1)[0, 1])\n",
    "# Question 2: You're thinking about estimating the model: y1 = b0+ b1*x1 + error\n",
    "##  that is, you are omitting x2\n",
    "\n",
    "## Before estimating, do you think b1 will be biased? Why or why not? If yes, will b1 be an overestimate or an underestimate?\n",
    "# Yes I think that b1 will be biased and an overestimate \n",
    "# as x1 and x2 are positvely correlated and x2 and y1 are positively correlated.\n",
    "\n",
    "# Question 3: Estimate the model: y1 = b0 + b1*x1 + error\n",
    "## Was your hypothesis in Question 2 correct?\n",
    "m1 = smf.ols(formula='y1 ~ x1', data=data)\n",
    "print(m1.fit(cov_type='HC3').summary())\n",
    "\n",
    "# Yes our estimated model without x2 yielded a higher b1 as predicted because\n",
    "# x1 and y1 are positively correlated with x2 therefore ommtting it will lead\n",
    "# b1 to account for its effect therefore controlling for x2 would lower b1.\n",
    "\n",
    "\n"
   ]
  },
  {
   "cell_type": "code",
   "execution_count": 19,
   "metadata": {},
   "outputs": [
    {
     "name": "stdout",
     "output_type": "stream",
     "text": [
      "The correlation between x2 and x3:  0.3690337809077244\n",
      "The correlation between x3 and y2:  0.5908225668943599\n",
      "                            OLS Regression Results                            \n",
      "==============================================================================\n",
      "Dep. Variable:                     y2   R-squared:                       0.804\n",
      "Model:                            OLS   Adj. R-squared:                  0.803\n",
      "Method:                 Least Squares   F-statistic:                     8773.\n",
      "Date:                Mon, 29 Apr 2024   Prob (F-statistic):               0.00\n",
      "Time:                        23:00:26   Log-Likelihood:                -12455.\n",
      "No. Observations:                4626   AIC:                         2.492e+04\n",
      "Df Residuals:                    4623   BIC:                         2.493e+04\n",
      "Df Model:                           2                                         \n",
      "Covariance Type:                  HC3                                         \n",
      "==============================================================================\n",
      "                 coef    std err          z      P>|z|      [0.025      0.975]\n",
      "------------------------------------------------------------------------------\n",
      "Intercept     21.0889      0.156    135.464      0.000      20.784      21.394\n",
      "x1             0.1994      0.002    107.063      0.000       0.196       0.203\n",
      "x2             0.1486      0.002     75.219      0.000       0.145       0.153\n",
      "==============================================================================\n",
      "Omnibus:                     1226.104   Durbin-Watson:                   1.982\n",
      "Prob(Omnibus):                  0.000   Jarque-Bera (JB):             3588.130\n",
      "Skew:                          -1.373   Prob(JB):                         0.00\n",
      "Kurtosis:                       6.328   Cond. No.                         204.\n",
      "==============================================================================\n",
      "\n",
      "Notes:\n",
      "[1] Standard Errors are heteroscedasticity robust (HC3)\n"
     ]
    }
   ],
   "source": [
    "# Part 2\n",
    "# The (artificially created) model of the world is\n",
    "#                    y2 = 0.2x1 + 0.1x2 + 13x3 + error\n",
    "\n",
    "\n",
    "# Question 4: What is the correlation between x2 and x3?\n",
    "print(\"The correlation between x2 and x3: \", np.corrcoef(data.x2, data.x3)[0, 1])\n",
    "print(\"The correlation between x3 and y2: \", np.corrcoef(data.x3, data.y2)[0, 1])\n",
    "\n",
    "# Question 5: You're thinking about estimating the model: y2 = b0+ b1*x1 + b2*x2 + error\n",
    "##  that is, you are omitting x3\n",
    "\n",
    "## Before estimating, do you think b2 will be biased? Why or why not? If yes, will b2 be an overestimate or an underestimate?\n",
    "# Yes I think that b2 will be biased and an overestimate \n",
    "# as x2 and x3 are positvely correlated and x3 and y2 are positively correlated.\n",
    "\n",
    "# Question 6: Estimate the model: y2 = b0+ b1*x1 + b2*x2 + error\n",
    "## Was your hypothesis in Question 2 correct?\n",
    "m2 = smf.ols(formula='y2 ~ x1 + x2', data=data)\n",
    "print(m2.fit(cov_type='HC3').summary())\n",
    "\n",
    "# Yes our estimated model without x3 yielded a higher b2 as predicted because\n",
    "# x2 and y2 are both positively correlated with x3 therefore ommtting it's effcet will lead\n",
    "# b2 to account for its effect therefore raising b2 to incorporate the affect x3\n",
    "# had on b2 and y2.\n"
   ]
  },
  {
   "cell_type": "code",
   "execution_count": 21,
   "metadata": {},
   "outputs": [
    {
     "name": "stdout",
     "output_type": "stream",
     "text": [
      "The correlation between x2 and x3:  0.3690337809077244\n",
      "The correlation between x3 and y2:  -0.370742668189578\n",
      "                            OLS Regression Results                            \n",
      "==============================================================================\n",
      "Dep. Variable:                     y3   R-squared:                       0.743\n",
      "Model:                            OLS   Adj. R-squared:                  0.743\n",
      "Method:                 Least Squares   F-statistic:                     6383.\n",
      "Date:                Mon, 29 Apr 2024   Prob (F-statistic):               0.00\n",
      "Time:                        23:03:29   Log-Likelihood:                -12423.\n",
      "No. Observations:                4626   AIC:                         2.485e+04\n",
      "Df Residuals:                    4623   BIC:                         2.487e+04\n",
      "Df Model:                           2                                         \n",
      "Covariance Type:                  HC3                                         \n",
      "==============================================================================\n",
      "                 coef    std err          z      P>|z|      [0.025      0.975]\n",
      "------------------------------------------------------------------------------\n",
      "Intercept    -21.1525      0.153   -137.976      0.000     -21.453     -20.852\n",
      "x1             0.2005      0.002    108.573      0.000       0.197       0.204\n",
      "x2             0.0538      0.002     27.250      0.000       0.050       0.058\n",
      "==============================================================================\n",
      "Omnibus:                     1179.780   Durbin-Watson:                   1.984\n",
      "Prob(Omnibus):                  0.000   Jarque-Bera (JB):             3349.512\n",
      "Skew:                           1.333   Prob(JB):                         0.00\n",
      "Kurtosis:                       6.205   Cond. No.                         204.\n",
      "==============================================================================\n",
      "\n",
      "Notes:\n",
      "[1] Standard Errors are heteroscedasticity robust (HC3)\n"
     ]
    }
   ],
   "source": [
    "# Part 3\n",
    "# The (artificially created) model of the world is\n",
    "#                    y3 = 0.2x1 + 0.1x2 - 13x3 + error\n",
    "\n",
    "\n",
    "# Question 7: What is the correlation between x2 and x3?\n",
    "print(\"The correlation between x2 and x3: \", np.corrcoef(data.x2, data.x3)[0, 1])\n",
    "print(\"The correlation between x3 and y3: \", np.corrcoef(data.x3, data.y3)[0, 1])\n",
    "# Question 8: You're thinking about estimating the model: y3 = b0+ b1*x1 + b2*x2 + error\n",
    "##  that is, you are omitting x3\n",
    "\n",
    "## Before estimating, do you think b2 will be biased? Why or why not? If yes, will b2 be an overestimate or an underestimate?\n",
    "# Yes I think that b2 will be biased and an underestimate \n",
    "# as x2 and x3 are positvely correlated however x3 and y3 are negatively correlated.\n",
    "\n",
    "# Question 9: Estimate the model: y2 = b0+ b1*x1 + b2*x2 + error\n",
    "## Was your hypothesis in Question 2 correct?\n",
    "\n",
    "m3 = smf.ols(formula='y3 ~ x1 + x2', data=data)\n",
    "print(m3.fit(cov_type='HC3').summary())\n",
    "\n",
    "# Yes our estimated model without x3 yielded a lower b2 as predicted because\n",
    "# x2 and x3 are positvely correlated however x3 and y3 are negatively correlated.\n",
    "# Therefore ommtting it's effcet will lead b2 to account for its effect however it will\n",
    "# lower b2 to incorporate the negative affect x3 had on y2.\n"
   ]
  },
  {
   "cell_type": "code",
   "execution_count": null,
   "metadata": {},
   "outputs": [],
   "source": []
  }
 ],
 "metadata": {
  "kernelspec": {
   "display_name": "Python 3 (ipykernel)",
   "language": "python",
   "name": "python3"
  },
  "language_info": {
   "codemirror_mode": {
    "name": "ipython",
    "version": 3
   },
   "file_extension": ".py",
   "mimetype": "text/x-python",
   "name": "python",
   "nbconvert_exporter": "python",
   "pygments_lexer": "ipython3",
   "version": "3.11.7"
  }
 },
 "nbformat": 4,
 "nbformat_minor": 4
}
