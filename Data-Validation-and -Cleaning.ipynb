{
 "cells": [
  {
   "cell_type": "code",
   "execution_count": 13,
   "metadata": {
    "collapsed": true,
    "jupyter": {
     "outputs_hidden": true
    },
    "tags": []
   },
   "outputs": [
    {
     "name": "stdout",
     "output_type": "stream",
     "text": [
      "Collecting great_expectations\n",
      "  Downloading great_expectations-0.18.15-py3-none-any.whl.metadata (8.8 kB)\n",
      "Collecting altair<5.0.0,>=4.2.1 (from great_expectations)\n",
      "  Downloading altair-4.2.2-py3-none-any.whl.metadata (13 kB)\n",
      "Requirement already satisfied: Click>=7.1.2 in /opt/anaconda3/lib/python3.11/site-packages (from great_expectations) (8.1.7)\n",
      "Requirement already satisfied: colorama>=0.4.3 in /opt/anaconda3/lib/python3.11/site-packages (from great_expectations) (0.4.6)\n",
      "Requirement already satisfied: cryptography>=3.2 in /opt/anaconda3/lib/python3.11/site-packages (from great_expectations) (42.0.2)\n",
      "Requirement already satisfied: Ipython>=7.16.3 in /opt/anaconda3/lib/python3.11/site-packages (from great_expectations) (8.20.0)\n",
      "Requirement already satisfied: ipywidgets>=7.5.1 in /opt/anaconda3/lib/python3.11/site-packages (from great_expectations) (7.6.5)\n",
      "Requirement already satisfied: jinja2>=2.10 in /opt/anaconda3/lib/python3.11/site-packages (from great_expectations) (3.1.3)\n",
      "Requirement already satisfied: jsonpatch>=1.22 in /opt/anaconda3/lib/python3.11/site-packages (from great_expectations) (1.32)\n",
      "Requirement already satisfied: jsonschema>=2.5.1 in /opt/anaconda3/lib/python3.11/site-packages (from great_expectations) (4.19.2)\n",
      "Collecting makefun<2,>=1.7.0 (from great_expectations)\n",
      "  Downloading makefun-1.15.2-py2.py3-none-any.whl.metadata (3.0 kB)\n",
      "Collecting marshmallow<4.0.0,>=3.7.1 (from great_expectations)\n",
      "  Downloading marshmallow-3.21.2-py3-none-any.whl.metadata (7.1 kB)\n",
      "Requirement already satisfied: mistune>=0.8.4 in /opt/anaconda3/lib/python3.11/site-packages (from great_expectations) (2.0.4)\n",
      "Requirement already satisfied: nbformat>=5.0 in /opt/anaconda3/lib/python3.11/site-packages (from great_expectations) (5.9.2)\n",
      "Requirement already satisfied: notebook>=6.4.10 in /opt/anaconda3/lib/python3.11/site-packages (from great_expectations) (6.5.4)\n",
      "Requirement already satisfied: packaging in /opt/anaconda3/lib/python3.11/site-packages (from great_expectations) (23.1)\n",
      "Requirement already satisfied: pydantic>=1.9.2 in /opt/anaconda3/lib/python3.11/site-packages (from great_expectations) (1.10.12)\n",
      "Requirement already satisfied: pyparsing>=2.4 in /opt/anaconda3/lib/python3.11/site-packages (from great_expectations) (3.0.9)\n",
      "Requirement already satisfied: python-dateutil>=2.8.1 in /opt/anaconda3/lib/python3.11/site-packages (from great_expectations) (2.8.2)\n",
      "Requirement already satisfied: pytz>=2021.3 in /opt/anaconda3/lib/python3.11/site-packages (from great_expectations) (2023.3.post1)\n",
      "Requirement already satisfied: requests>=2.20 in /opt/anaconda3/lib/python3.11/site-packages (from great_expectations) (2.31.0)\n",
      "Collecting ruamel.yaml<0.17.18,>=0.16 (from great_expectations)\n",
      "  Downloading ruamel.yaml-0.17.17-py3-none-any.whl.metadata (12 kB)\n",
      "Requirement already satisfied: scipy>=1.6.0 in /opt/anaconda3/lib/python3.11/site-packages (from great_expectations) (1.11.4)\n",
      "Requirement already satisfied: tqdm>=4.59.0 in /opt/anaconda3/lib/python3.11/site-packages (from great_expectations) (4.65.0)\n",
      "Requirement already satisfied: typing-extensions>=3.10.0.0 in /opt/anaconda3/lib/python3.11/site-packages (from great_expectations) (4.9.0)\n",
      "Requirement already satisfied: tzlocal>=1.2 in /opt/anaconda3/lib/python3.11/site-packages (from great_expectations) (2.1)\n",
      "Requirement already satisfied: urllib3>=1.26 in /opt/anaconda3/lib/python3.11/site-packages (from great_expectations) (2.0.7)\n",
      "Requirement already satisfied: numpy<2.0.0,>=1.22.4 in /opt/anaconda3/lib/python3.11/site-packages (from great_expectations) (1.26.4)\n",
      "Requirement already satisfied: pandas>=1.3.0 in /opt/anaconda3/lib/python3.11/site-packages (from great_expectations) (2.1.4)\n",
      "Requirement already satisfied: entrypoints in /opt/anaconda3/lib/python3.11/site-packages (from altair<5.0.0,>=4.2.1->great_expectations) (0.4)\n",
      "Requirement already satisfied: toolz in /opt/anaconda3/lib/python3.11/site-packages (from altair<5.0.0,>=4.2.1->great_expectations) (0.12.0)\n",
      "Requirement already satisfied: cffi>=1.12 in /opt/anaconda3/lib/python3.11/site-packages (from cryptography>=3.2->great_expectations) (1.16.0)\n",
      "Requirement already satisfied: decorator in /opt/anaconda3/lib/python3.11/site-packages (from Ipython>=7.16.3->great_expectations) (5.1.1)\n",
      "Requirement already satisfied: jedi>=0.16 in /opt/anaconda3/lib/python3.11/site-packages (from Ipython>=7.16.3->great_expectations) (0.18.1)\n",
      "Requirement already satisfied: matplotlib-inline in /opt/anaconda3/lib/python3.11/site-packages (from Ipython>=7.16.3->great_expectations) (0.1.6)\n",
      "Requirement already satisfied: prompt-toolkit<3.1.0,>=3.0.41 in /opt/anaconda3/lib/python3.11/site-packages (from Ipython>=7.16.3->great_expectations) (3.0.43)\n",
      "Requirement already satisfied: pygments>=2.4.0 in /opt/anaconda3/lib/python3.11/site-packages (from Ipython>=7.16.3->great_expectations) (2.15.1)\n",
      "Requirement already satisfied: stack-data in /opt/anaconda3/lib/python3.11/site-packages (from Ipython>=7.16.3->great_expectations) (0.2.0)\n",
      "Requirement already satisfied: traitlets>=5 in /opt/anaconda3/lib/python3.11/site-packages (from Ipython>=7.16.3->great_expectations) (5.7.1)\n",
      "Requirement already satisfied: pexpect>4.3 in /opt/anaconda3/lib/python3.11/site-packages (from Ipython>=7.16.3->great_expectations) (4.8.0)\n",
      "Requirement already satisfied: ipykernel>=4.5.1 in /opt/anaconda3/lib/python3.11/site-packages (from ipywidgets>=7.5.1->great_expectations) (6.28.0)\n",
      "Requirement already satisfied: ipython-genutils~=0.2.0 in /opt/anaconda3/lib/python3.11/site-packages (from ipywidgets>=7.5.1->great_expectations) (0.2.0)\n",
      "Requirement already satisfied: widgetsnbextension~=3.5.0 in /opt/anaconda3/lib/python3.11/site-packages (from ipywidgets>=7.5.1->great_expectations) (3.5.2)\n",
      "Requirement already satisfied: jupyterlab-widgets>=1.0.0 in /opt/anaconda3/lib/python3.11/site-packages (from ipywidgets>=7.5.1->great_expectations) (3.0.9)\n",
      "Requirement already satisfied: MarkupSafe>=2.0 in /opt/anaconda3/lib/python3.11/site-packages (from jinja2>=2.10->great_expectations) (2.1.3)\n",
      "Requirement already satisfied: jsonpointer>=1.9 in /opt/anaconda3/lib/python3.11/site-packages (from jsonpatch>=1.22->great_expectations) (2.1)\n",
      "Requirement already satisfied: attrs>=22.2.0 in /opt/anaconda3/lib/python3.11/site-packages (from jsonschema>=2.5.1->great_expectations) (23.2.0)\n",
      "Requirement already satisfied: jsonschema-specifications>=2023.03.6 in /opt/anaconda3/lib/python3.11/site-packages (from jsonschema>=2.5.1->great_expectations) (2023.7.1)\n",
      "Requirement already satisfied: referencing>=0.28.4 in /opt/anaconda3/lib/python3.11/site-packages (from jsonschema>=2.5.1->great_expectations) (0.30.2)\n",
      "Requirement already satisfied: rpds-py>=0.7.1 in /opt/anaconda3/lib/python3.11/site-packages (from jsonschema>=2.5.1->great_expectations) (0.10.6)\n",
      "Requirement already satisfied: fastjsonschema in /opt/anaconda3/lib/python3.11/site-packages (from nbformat>=5.0->great_expectations) (2.16.2)\n",
      "Requirement already satisfied: jupyter-core in /opt/anaconda3/lib/python3.11/site-packages (from nbformat>=5.0->great_expectations) (5.5.0)\n",
      "Requirement already satisfied: tornado>=6.1 in /opt/anaconda3/lib/python3.11/site-packages (from notebook>=6.4.10->great_expectations) (6.3.3)\n",
      "Requirement already satisfied: pyzmq>=17 in /opt/anaconda3/lib/python3.11/site-packages (from notebook>=6.4.10->great_expectations) (24.0.1)\n",
      "Requirement already satisfied: argon2-cffi in /opt/anaconda3/lib/python3.11/site-packages (from notebook>=6.4.10->great_expectations) (21.3.0)\n",
      "Requirement already satisfied: jupyter-client>=5.3.4 in /opt/anaconda3/lib/python3.11/site-packages (from notebook>=6.4.10->great_expectations) (7.4.9)\n",
      "Requirement already satisfied: nbconvert>=5 in /opt/anaconda3/lib/python3.11/site-packages (from notebook>=6.4.10->great_expectations) (7.10.0)\n",
      "Requirement already satisfied: nest-asyncio>=1.5 in /opt/anaconda3/lib/python3.11/site-packages (from notebook>=6.4.10->great_expectations) (1.6.0)\n",
      "Requirement already satisfied: Send2Trash>=1.8.0 in /opt/anaconda3/lib/python3.11/site-packages (from notebook>=6.4.10->great_expectations) (1.8.2)\n",
      "Requirement already satisfied: terminado>=0.8.3 in /opt/anaconda3/lib/python3.11/site-packages (from notebook>=6.4.10->great_expectations) (0.17.1)\n",
      "Requirement already satisfied: prometheus-client in /opt/anaconda3/lib/python3.11/site-packages (from notebook>=6.4.10->great_expectations) (0.14.1)\n",
      "Requirement already satisfied: nbclassic>=0.4.7 in /opt/anaconda3/lib/python3.11/site-packages (from notebook>=6.4.10->great_expectations) (1.0.0)\n",
      "Requirement already satisfied: tzdata>=2022.1 in /opt/anaconda3/lib/python3.11/site-packages (from pandas>=1.3.0->great_expectations) (2023.3)\n",
      "Requirement already satisfied: six>=1.5 in /opt/anaconda3/lib/python3.11/site-packages (from python-dateutil>=2.8.1->great_expectations) (1.16.0)\n",
      "Requirement already satisfied: charset-normalizer<4,>=2 in /opt/anaconda3/lib/python3.11/site-packages (from requests>=2.20->great_expectations) (2.0.4)\n",
      "Requirement already satisfied: idna<4,>=2.5 in /opt/anaconda3/lib/python3.11/site-packages (from requests>=2.20->great_expectations) (3.4)\n",
      "Requirement already satisfied: certifi>=2017.4.17 in /opt/anaconda3/lib/python3.11/site-packages (from requests>=2.20->great_expectations) (2024.2.2)\n",
      "Requirement already satisfied: pycparser in /opt/anaconda3/lib/python3.11/site-packages (from cffi>=1.12->cryptography>=3.2->great_expectations) (2.21)\n",
      "Requirement already satisfied: appnope in /opt/anaconda3/lib/python3.11/site-packages (from ipykernel>=4.5.1->ipywidgets>=7.5.1->great_expectations) (0.1.2)\n",
      "Requirement already satisfied: comm>=0.1.1 in /opt/anaconda3/lib/python3.11/site-packages (from ipykernel>=4.5.1->ipywidgets>=7.5.1->great_expectations) (0.1.2)\n",
      "Requirement already satisfied: debugpy>=1.6.5 in /opt/anaconda3/lib/python3.11/site-packages (from ipykernel>=4.5.1->ipywidgets>=7.5.1->great_expectations) (1.6.7)\n",
      "Requirement already satisfied: psutil in /opt/anaconda3/lib/python3.11/site-packages (from ipykernel>=4.5.1->ipywidgets>=7.5.1->great_expectations) (5.9.0)\n",
      "Requirement already satisfied: parso<0.9.0,>=0.8.0 in /opt/anaconda3/lib/python3.11/site-packages (from jedi>=0.16->Ipython>=7.16.3->great_expectations) (0.8.3)\n",
      "Requirement already satisfied: platformdirs>=2.5 in /opt/anaconda3/lib/python3.11/site-packages (from jupyter-core->nbformat>=5.0->great_expectations) (3.10.0)\n",
      "Requirement already satisfied: jupyter-server>=1.8 in /opt/anaconda3/lib/python3.11/site-packages (from nbclassic>=0.4.7->notebook>=6.4.10->great_expectations) (2.10.0)\n",
      "Requirement already satisfied: notebook-shim>=0.2.3 in /opt/anaconda3/lib/python3.11/site-packages (from nbclassic>=0.4.7->notebook>=6.4.10->great_expectations) (0.2.3)\n",
      "Requirement already satisfied: beautifulsoup4 in /opt/anaconda3/lib/python3.11/site-packages (from nbconvert>=5->notebook>=6.4.10->great_expectations) (4.12.2)\n",
      "Requirement already satisfied: bleach!=5.0.0 in /opt/anaconda3/lib/python3.11/site-packages (from nbconvert>=5->notebook>=6.4.10->great_expectations) (4.1.0)\n",
      "Requirement already satisfied: defusedxml in /opt/anaconda3/lib/python3.11/site-packages (from nbconvert>=5->notebook>=6.4.10->great_expectations) (0.7.1)\n",
      "Requirement already satisfied: jupyterlab-pygments in /opt/anaconda3/lib/python3.11/site-packages (from nbconvert>=5->notebook>=6.4.10->great_expectations) (0.1.2)\n",
      "Requirement already satisfied: nbclient>=0.5.0 in /opt/anaconda3/lib/python3.11/site-packages (from nbconvert>=5->notebook>=6.4.10->great_expectations) (0.8.0)\n",
      "Requirement already satisfied: pandocfilters>=1.4.1 in /opt/anaconda3/lib/python3.11/site-packages (from nbconvert>=5->notebook>=6.4.10->great_expectations) (1.5.0)\n",
      "Requirement already satisfied: tinycss2 in /opt/anaconda3/lib/python3.11/site-packages (from nbconvert>=5->notebook>=6.4.10->great_expectations) (1.2.1)\n",
      "Requirement already satisfied: ptyprocess>=0.5 in /opt/anaconda3/lib/python3.11/site-packages (from pexpect>4.3->Ipython>=7.16.3->great_expectations) (0.7.0)\n",
      "Requirement already satisfied: wcwidth in /opt/anaconda3/lib/python3.11/site-packages (from prompt-toolkit<3.1.0,>=3.0.41->Ipython>=7.16.3->great_expectations) (0.2.5)\n",
      "Requirement already satisfied: argon2-cffi-bindings in /opt/anaconda3/lib/python3.11/site-packages (from argon2-cffi->notebook>=6.4.10->great_expectations) (21.2.0)\n",
      "Requirement already satisfied: executing in /opt/anaconda3/lib/python3.11/site-packages (from stack-data->Ipython>=7.16.3->great_expectations) (0.8.3)\n",
      "Requirement already satisfied: asttokens in /opt/anaconda3/lib/python3.11/site-packages (from stack-data->Ipython>=7.16.3->great_expectations) (2.0.5)\n",
      "Requirement already satisfied: pure-eval in /opt/anaconda3/lib/python3.11/site-packages (from stack-data->Ipython>=7.16.3->great_expectations) (0.2.2)\n",
      "Requirement already satisfied: webencodings in /opt/anaconda3/lib/python3.11/site-packages (from bleach!=5.0.0->nbconvert>=5->notebook>=6.4.10->great_expectations) (0.5.1)\n",
      "Requirement already satisfied: anyio>=3.1.0 in /opt/anaconda3/lib/python3.11/site-packages (from jupyter-server>=1.8->nbclassic>=0.4.7->notebook>=6.4.10->great_expectations) (4.2.0)\n",
      "Requirement already satisfied: jupyter-events>=0.6.0 in /opt/anaconda3/lib/python3.11/site-packages (from jupyter-server>=1.8->nbclassic>=0.4.7->notebook>=6.4.10->great_expectations) (0.8.0)\n",
      "Requirement already satisfied: jupyter-server-terminals in /opt/anaconda3/lib/python3.11/site-packages (from jupyter-server>=1.8->nbclassic>=0.4.7->notebook>=6.4.10->great_expectations) (0.4.4)\n",
      "Requirement already satisfied: overrides in /opt/anaconda3/lib/python3.11/site-packages (from jupyter-server>=1.8->nbclassic>=0.4.7->notebook>=6.4.10->great_expectations) (7.4.0)\n",
      "Requirement already satisfied: websocket-client in /opt/anaconda3/lib/python3.11/site-packages (from jupyter-server>=1.8->nbclassic>=0.4.7->notebook>=6.4.10->great_expectations) (0.58.0)\n",
      "Requirement already satisfied: soupsieve>1.2 in /opt/anaconda3/lib/python3.11/site-packages (from beautifulsoup4->nbconvert>=5->notebook>=6.4.10->great_expectations) (2.5)\n",
      "Requirement already satisfied: sniffio>=1.1 in /opt/anaconda3/lib/python3.11/site-packages (from anyio>=3.1.0->jupyter-server>=1.8->nbclassic>=0.4.7->notebook>=6.4.10->great_expectations) (1.3.0)\n",
      "Requirement already satisfied: python-json-logger>=2.0.4 in /opt/anaconda3/lib/python3.11/site-packages (from jupyter-events>=0.6.0->jupyter-server>=1.8->nbclassic>=0.4.7->notebook>=6.4.10->great_expectations) (2.0.7)\n",
      "Requirement already satisfied: pyyaml>=5.3 in /opt/anaconda3/lib/python3.11/site-packages (from jupyter-events>=0.6.0->jupyter-server>=1.8->nbclassic>=0.4.7->notebook>=6.4.10->great_expectations) (6.0.1)\n",
      "Requirement already satisfied: rfc3339-validator in /opt/anaconda3/lib/python3.11/site-packages (from jupyter-events>=0.6.0->jupyter-server>=1.8->nbclassic>=0.4.7->notebook>=6.4.10->great_expectations) (0.1.4)\n",
      "Requirement already satisfied: rfc3986-validator>=0.1.1 in /opt/anaconda3/lib/python3.11/site-packages (from jupyter-events>=0.6.0->jupyter-server>=1.8->nbclassic>=0.4.7->notebook>=6.4.10->great_expectations) (0.1.1)\n",
      "Collecting fqdn (from jsonschema[format-nongpl]>=4.18.0->jupyter-events>=0.6.0->jupyter-server>=1.8->nbclassic>=0.4.7->notebook>=6.4.10->great_expectations)\n",
      "  Downloading fqdn-1.5.1-py3-none-any.whl.metadata (1.4 kB)\n",
      "Collecting isoduration (from jsonschema[format-nongpl]>=4.18.0->jupyter-events>=0.6.0->jupyter-server>=1.8->nbclassic>=0.4.7->notebook>=6.4.10->great_expectations)\n",
      "  Downloading isoduration-20.11.0-py3-none-any.whl.metadata (5.7 kB)\n",
      "Collecting uri-template (from jsonschema[format-nongpl]>=4.18.0->jupyter-events>=0.6.0->jupyter-server>=1.8->nbclassic>=0.4.7->notebook>=6.4.10->great_expectations)\n",
      "  Downloading uri_template-1.3.0-py3-none-any.whl.metadata (8.8 kB)\n",
      "Collecting webcolors>=1.11 (from jsonschema[format-nongpl]>=4.18.0->jupyter-events>=0.6.0->jupyter-server>=1.8->nbclassic>=0.4.7->notebook>=6.4.10->great_expectations)\n",
      "  Downloading webcolors-1.13-py3-none-any.whl.metadata (2.6 kB)\n",
      "Requirement already satisfied: arrow>=0.15.0 in /opt/anaconda3/lib/python3.11/site-packages (from isoduration->jsonschema[format-nongpl]>=4.18.0->jupyter-events>=0.6.0->jupyter-server>=1.8->nbclassic>=0.4.7->notebook>=6.4.10->great_expectations) (1.2.3)\n",
      "Downloading great_expectations-0.18.15-py3-none-any.whl (5.4 MB)\n",
      "\u001b[2K   \u001b[90m━━━━━━━━━━━━━━━━━━━━━━━━━━━━━━━━━━━━━━━━\u001b[0m \u001b[32m5.4/5.4 MB\u001b[0m \u001b[31m12.0 MB/s\u001b[0m eta \u001b[36m0:00:00\u001b[0m00:01\u001b[0m00:01\u001b[0m\n",
      "\u001b[?25hDownloading altair-4.2.2-py3-none-any.whl (813 kB)\n",
      "\u001b[2K   \u001b[90m━━━━━━━━━━━━━━━━━━━━━━━━━━━━━━━━━━━━━━━━\u001b[0m \u001b[32m813.6/813.6 kB\u001b[0m \u001b[31m12.9 MB/s\u001b[0m eta \u001b[36m0:00:00\u001b[0ma \u001b[36m0:00:01\u001b[0m\n",
      "\u001b[?25hDownloading makefun-1.15.2-py2.py3-none-any.whl (22 kB)\n",
      "Downloading marshmallow-3.21.2-py3-none-any.whl (49 kB)\n",
      "\u001b[2K   \u001b[90m━━━━━━━━━━━━━━━━━━━━━━━━━━━━━━━━━━━━━━━━\u001b[0m \u001b[32m49.3/49.3 kB\u001b[0m \u001b[31m4.8 MB/s\u001b[0m eta \u001b[36m0:00:00\u001b[0m\n",
      "\u001b[?25hDownloading ruamel.yaml-0.17.17-py3-none-any.whl (109 kB)\n",
      "\u001b[2K   \u001b[90m━━━━━━━━━━━━━━━━━━━━━━━━━━━━━━━━━━━━━━━━\u001b[0m \u001b[32m109.1/109.1 kB\u001b[0m \u001b[31m8.1 MB/s\u001b[0m eta \u001b[36m0:00:00\u001b[0m\n",
      "\u001b[?25hDownloading webcolors-1.13-py3-none-any.whl (14 kB)\n",
      "Downloading fqdn-1.5.1-py3-none-any.whl (9.1 kB)\n",
      "Downloading isoduration-20.11.0-py3-none-any.whl (11 kB)\n",
      "Downloading uri_template-1.3.0-py3-none-any.whl (11 kB)\n",
      "Installing collected packages: makefun, webcolors, uri-template, ruamel.yaml, marshmallow, fqdn, isoduration, altair, great_expectations\n",
      "  Attempting uninstall: ruamel.yaml\n",
      "    Found existing installation: ruamel.yaml 0.17.21\n",
      "    Uninstalling ruamel.yaml-0.17.21:\n",
      "      Successfully uninstalled ruamel.yaml-0.17.21\n",
      "  Attempting uninstall: altair\n",
      "    Found existing installation: altair 5.0.1\n",
      "    Uninstalling altair-5.0.1:\n",
      "      Successfully uninstalled altair-5.0.1\n",
      "Successfully installed altair-4.2.2 fqdn-1.5.1 great_expectations-0.18.15 isoduration-20.11.0 makefun-1.15.2 marshmallow-3.21.2 ruamel.yaml-0.17.17 uri-template-1.3.0 webcolors-1.13\n"
     ]
    }
   ],
   "source": [
    "!pip install great_expectations ####RECEIVED EXTENSION"
   ]
  },
  {
   "cell_type": "code",
   "execution_count": 280,
   "metadata": {
    "tags": []
   },
   "outputs": [],
   "source": [
    "## Imports\n",
    "import pandas as pd\n",
    "import numpy as np\n",
    "import great_expectations as ge\n",
    "import re"
   ]
  },
  {
   "cell_type": "code",
   "execution_count": 282,
   "metadata": {
    "tags": []
   },
   "outputs": [],
   "source": [
    "# Prepocessing\n",
    "df = pd.read_excel(\"hw5_dataset.xlsx\")\n",
    "df.replace(-1, pd.NA, inplace=True)\n",
    "\n",
    "def extract_salary_estimate(value):\n",
    "    match = re.match(r\"\\$(\\d+)K-\\$(\\d+)K \\(Glassdoor est.\\)\", value)\n",
    "    if match:\n",
    "        return int(match.group(1)) * 1000, int(match.group(2)) * 1000\n",
    "    return None, None\n",
    "\n",
    "\n",
    "df[\"Min Salary Estimate\"], df[\"Max Salary Estimate\"] = zip(*df[\"Salary Estimate\"].apply(extract_salary_estimate))\n",
    "df[\"Min Max Diff\"] = df[\"Max Salary Estimate\"] - df[\"Min Salary Estimate\"]"
   ]
  },
  {
   "cell_type": "code",
   "execution_count": 284,
   "metadata": {
    "tags": []
   },
   "outputs": [],
   "source": [
    "ge_df = ge.from_pandas(df)"
   ]
  },
  {
   "cell_type": "code",
   "execution_count": 286,
   "metadata": {
    "tags": []
   },
   "outputs": [
    {
     "name": "stdout",
     "output_type": "stream",
     "text": [
      "{\n",
      "  \"success\": false,\n",
      "  \"expectation_config\": {\n",
      "    \"expectation_type\": \"expect_column_values_to_be_between\",\n",
      "    \"kwargs\": {\n",
      "      \"column\": \"Min Salary Estimate\",\n",
      "      \"min_value\": 50000,\n",
      "      \"max_value\": 400000,\n",
      "      \"result_format\": \"BASIC\"\n",
      "    },\n",
      "    \"meta\": {}\n",
      "  },\n",
      "  \"result\": {\n",
      "    \"element_count\": 672,\n",
      "    \"missing_count\": 20,\n",
      "    \"missing_percent\": 2.976190476190476,\n",
      "    \"unexpected_count\": 21,\n",
      "    \"unexpected_percent\": 3.2208588957055215,\n",
      "    \"unexpected_percent_total\": 3.125,\n",
      "    \"unexpected_percent_nonmissing\": 3.2208588957055215,\n",
      "    \"partial_unexpected_list\": [\n",
      "      990000.0,\n",
      "      31000.0,\n",
      "      31000.0,\n",
      "      31000.0,\n",
      "      31000.0,\n",
      "      31000.0,\n",
      "      31000.0,\n",
      "      31000.0,\n",
      "      31000.0,\n",
      "      31000.0,\n",
      "      31000.0,\n",
      "      31000.0,\n",
      "      31000.0,\n",
      "      31000.0,\n",
      "      31000.0,\n",
      "      31000.0,\n",
      "      31000.0,\n",
      "      31000.0,\n",
      "      31000.0,\n",
      "      31000.0\n",
      "    ]\n",
      "  },\n",
      "  \"meta\": {},\n",
      "  \"exception_info\": {\n",
      "    \"raised_exception\": false,\n",
      "    \"exception_traceback\": null,\n",
      "    \"exception_message\": null\n",
      "  }\n",
      "}\n",
      "{\n",
      "  \"success\": true,\n",
      "  \"expectation_config\": {\n",
      "    \"expectation_type\": \"expect_column_values_to_be_between\",\n",
      "    \"kwargs\": {\n",
      "      \"column\": \"Max Salary Estimate\",\n",
      "      \"min_value\": 50000,\n",
      "      \"max_value\": 400000,\n",
      "      \"result_format\": \"BASIC\"\n",
      "    },\n",
      "    \"meta\": {}\n",
      "  },\n",
      "  \"result\": {\n",
      "    \"element_count\": 672,\n",
      "    \"missing_count\": 20,\n",
      "    \"missing_percent\": 2.976190476190476,\n",
      "    \"unexpected_count\": 0,\n",
      "    \"unexpected_percent\": 0.0,\n",
      "    \"unexpected_percent_total\": 0.0,\n",
      "    \"unexpected_percent_nonmissing\": 0.0,\n",
      "    \"partial_unexpected_list\": []\n",
      "  },\n",
      "  \"meta\": {},\n",
      "  \"exception_info\": {\n",
      "    \"raised_exception\": false,\n",
      "    \"exception_traceback\": null,\n",
      "    \"exception_message\": null\n",
      "  }\n",
      "}\n"
     ]
    }
   ],
   "source": [
    "# Step 1\n",
    "print(ge_df.expect_column_values_to_be_between(\"Min Salary Estimate\", 50000, 400000))\n",
    "print(ge_df.expect_column_values_to_be_between(\"Max Salary Estimate\", 50000, 400000))"
   ]
  },
  {
   "cell_type": "code",
   "execution_count": 288,
   "metadata": {
    "tags": []
   },
   "outputs": [
    {
     "name": "stdout",
     "output_type": "stream",
     "text": [
      "{\n",
      "  \"success\": true,\n",
      "  \"expectation_config\": {\n",
      "    \"expectation_type\": \"expect_column_values_to_match_regex\",\n",
      "    \"kwargs\": {\n",
      "      \"column\": \"Salary Estimate\",\n",
      "      \"regex\": \"\\\\$(\\\\d+)K-\\\\$(\\\\d+)K\",\n",
      "      \"result_format\": \"BASIC\"\n",
      "    },\n",
      "    \"meta\": {}\n",
      "  },\n",
      "  \"result\": {\n",
      "    \"element_count\": 672,\n",
      "    \"missing_count\": 0,\n",
      "    \"missing_percent\": 0.0,\n",
      "    \"unexpected_count\": 0,\n",
      "    \"unexpected_percent\": 0.0,\n",
      "    \"unexpected_percent_total\": 0.0,\n",
      "    \"unexpected_percent_nonmissing\": 0.0,\n",
      "    \"partial_unexpected_list\": []\n",
      "  },\n",
      "  \"meta\": {},\n",
      "  \"exception_info\": {\n",
      "    \"raised_exception\": false,\n",
      "    \"exception_traceback\": null,\n",
      "    \"exception_message\": null\n",
      "  }\n",
      "}\n",
      "{\n",
      "  \"success\": false,\n",
      "  \"expectation_config\": {\n",
      "    \"expectation_type\": \"expect_column_values_to_be_between\",\n",
      "    \"kwargs\": {\n",
      "      \"column\": \"Min Max Diff\",\n",
      "      \"min_value\": 0,\n",
      "      \"max_value\": 350000,\n",
      "      \"result_format\": \"BASIC\"\n",
      "    },\n",
      "    \"meta\": {}\n",
      "  },\n",
      "  \"result\": {\n",
      "    \"element_count\": 672,\n",
      "    \"missing_count\": 20,\n",
      "    \"missing_percent\": 2.976190476190476,\n",
      "    \"unexpected_count\": 2,\n",
      "    \"unexpected_percent\": 0.3067484662576687,\n",
      "    \"unexpected_percent_total\": 0.2976190476190476,\n",
      "    \"unexpected_percent_nonmissing\": 0.3067484662576687,\n",
      "    \"partial_unexpected_list\": [\n",
      "      -881000.0,\n",
      "      -46000.0\n",
      "    ]\n",
      "  },\n",
      "  \"meta\": {},\n",
      "  \"exception_info\": {\n",
      "    \"raised_exception\": false,\n",
      "    \"exception_traceback\": null,\n",
      "    \"exception_message\": null\n",
      "  }\n",
      "}\n"
     ]
    }
   ],
   "source": [
    "# Step 2\n",
    "# If we have {A} space - {B} then all false\n",
    "print(ge_df.expect_column_values_to_match_regex(\"Salary Estimate\", r\"\\$(\\d+)K-\\$(\\d+)K\"))\n",
    "print(ge_df.expect_column_values_to_be_between(\"Min Max Diff\", 0, 400000 - 50000))"
   ]
  },
  {
   "cell_type": "code",
   "execution_count": 290,
   "metadata": {
    "tags": []
   },
   "outputs": [
    {
     "data": {
      "text/plain": [
       "{\n",
       "  \"success\": true,\n",
       "  \"result\": {\n",
       "    \"element_count\": 672,\n",
       "    \"missing_count\": 50,\n",
       "    \"missing_percent\": 7.440476190476191,\n",
       "    \"unexpected_count\": 0,\n",
       "    \"unexpected_percent\": 0.0,\n",
       "    \"unexpected_percent_total\": 0.0,\n",
       "    \"unexpected_percent_nonmissing\": 0.0,\n",
       "    \"partial_unexpected_list\": []\n",
       "  },\n",
       "  \"meta\": {},\n",
       "  \"exception_info\": {\n",
       "    \"raised_exception\": false,\n",
       "    \"exception_traceback\": null,\n",
       "    \"exception_message\": null\n",
       "  }\n",
       "}"
      ]
     },
     "execution_count": 290,
     "metadata": {},
     "output_type": "execute_result"
    }
   ],
   "source": [
    "# Step 3\n",
    "ge_df.expect_column_values_to_be_between(\"Rating\", 0.0, 5.0)"
   ]
  },
  {
   "cell_type": "code",
   "execution_count": 292,
   "metadata": {
    "tags": []
   },
   "outputs": [
    {
     "name": "stdout",
     "output_type": "stream",
     "text": [
      "{\n",
      "  \"success\": false,\n",
      "  \"expectation_config\": {\n",
      "    \"expectation_type\": \"expect_column_values_to_match_regex\",\n",
      "    \"kwargs\": {\n",
      "      \"column\": \"Location\",\n",
      "      \"regex\": \"\\\\b(?:AL|AK|AZ|AR|CA|CO|CT|DE|FL|GA|HI|ID|IL|IN|IA|KS|KY|LA|ME|MD|MA|MI|MN|MS|MO|MT|NE|NV|NH|NJ|NM|NY|NC|ND|OH|OK|OR|PA|RI|SC|SD|TN|TX|UT|VT|VA|WA|WV|WI|WY|DC|Remote|United\\\\ States|Alabama|Alaska|Arizona|Arkansas|California|Colorado|Connecticut|Delaware|Florida|Georgia|Hawaii|Idaho|Illinois|Indiana|Iowa|Kansas|Kentucky|Louisiana|Maine|Maryland|Massachusetts|Michigan|Minnesota|Mississippi|Missouri|Montana|Nebraska|Nevada|New\\\\ Hampshire|New\\\\ Jersey|New\\\\ Mexico|New\\\\ York|North\\\\ Carolina|North\\\\ Dakota|Ohio|Oklahoma|Oregon|Pennsylvania|Rhode\\\\ Island|South\\\\ Carolina|South\\\\ Dakota|Tennessee|Texas|Utah|Vermont|Virginia|Washington|West\\\\ Virginia|Wisconsin|Wyoming)\\\\b\",\n",
      "      \"result_format\": \"BASIC\"\n",
      "    },\n",
      "    \"meta\": {}\n",
      "  },\n",
      "  \"result\": {\n",
      "    \"element_count\": 672,\n",
      "    \"missing_count\": 0,\n",
      "    \"missing_percent\": 0.0,\n",
      "    \"unexpected_count\": 1,\n",
      "    \"unexpected_percent\": 0.1488095238095238,\n",
      "    \"unexpected_percent_total\": 0.1488095238095238,\n",
      "    \"unexpected_percent_nonmissing\": 0.1488095238095238,\n",
      "    \"partial_unexpected_list\": [\n",
      "      \"Columbia, Mars\"\n",
      "    ]\n",
      "  },\n",
      "  \"meta\": {},\n",
      "  \"exception_info\": {\n",
      "    \"raised_exception\": false,\n",
      "    \"exception_traceback\": null,\n",
      "    \"exception_message\": null\n",
      "  }\n",
      "}\n"
     ]
    }
   ],
   "source": [
    "# Step 4\n",
    "valid_states = [\n",
    "    'AL', 'AK', 'AZ', 'AR', 'CA', 'CO', 'CT', 'DE', 'FL', 'GA', 'HI', 'ID', 'IL', 'IN',\n",
    "    'IA', 'KS', 'KY', 'LA', 'ME', 'MD', 'MA', 'MI', 'MN', 'MS', 'MO', 'MT', 'NE', 'NV',\n",
    "    'NH', 'NJ', 'NM', 'NY', 'NC', 'ND', 'OH', 'OK', 'OR', 'PA', 'RI', 'SC', 'SD', 'TN',\n",
    "    'TX', 'UT', 'VT', 'VA', 'WA', 'WV', 'WI', 'WY', 'DC', \"Remote\", \"United States\",\n",
    "    \"Alabama\", \"Alaska\", \"Arizona\", \"Arkansas\", \"California\", \"Colorado\", \n",
    "    \"Connecticut\", \"Delaware\", \"Florida\", \"Georgia\", \"Hawaii\", \"Idaho\", \n",
    "    \"Illinois\", \"Indiana\", \"Iowa\", \"Kansas\", \"Kentucky\", \"Louisiana\", \n",
    "    \"Maine\", \"Maryland\", \"Massachusetts\", \"Michigan\", \"Minnesota\", \n",
    "    \"Mississippi\", \"Missouri\", \"Montana\", \"Nebraska\", \"Nevada\", \n",
    "    \"New Hampshire\", \"New Jersey\", \"New Mexico\", \"New York\", \n",
    "    \"North Carolina\", \"North Dakota\", \"Ohio\", \"Oklahoma\", \"Oregon\", \n",
    "    \"Pennsylvania\", \"Rhode Island\", \"South Carolina\", \"South Dakota\", \n",
    "    \"Tennessee\", \"Texas\", \"Utah\", \"Vermont\", \"Virginia\", \"Washington\", \n",
    "    \"West Virginia\", \"Wisconsin\", \"Wyoming\"]\n",
    "\n",
    "valid_states_regex = r\"\\b(?:{})\\b\".format(\"|\".join(re.escape(state) for state in valid_states))\n",
    "print(ge_df.expect_column_values_to_match_regex(\"Location\", valid_states_regex))"
   ]
  },
  {
   "cell_type": "code",
   "execution_count": 294,
   "metadata": {
    "tags": []
   },
   "outputs": [
    {
     "name": "stdout",
     "output_type": "stream",
     "text": [
      "{\n",
      "  \"success\": false,\n",
      "  \"expectation_config\": {\n",
      "    \"expectation_type\": \"expect_column_values_to_match_regex\",\n",
      "    \"kwargs\": {\n",
      "      \"column\": \"Size\",\n",
      "      \"regex\": \"^\\\\d+ to \\\\d+ employees$\",\n",
      "      \"result_format\": \"BASIC\"\n",
      "    },\n",
      "    \"meta\": {}\n",
      "  },\n",
      "  \"result\": {\n",
      "    \"element_count\": 672,\n",
      "    \"missing_count\": 27,\n",
      "    \"missing_percent\": 4.017857142857143,\n",
      "    \"unexpected_count\": 98,\n",
      "    \"unexpected_percent\": 15.193798449612403,\n",
      "    \"unexpected_percent_total\": 14.583333333333334,\n",
      "    \"unexpected_percent_nonmissing\": 15.193798449612403,\n",
      "    \"partial_unexpected_list\": [\n",
      "      \"10000+ employees\",\n",
      "      \"10000+ employees\",\n",
      "      \"10000+ employees\",\n",
      "      \"10000+ employees\",\n",
      "      \"10000+ employees\",\n",
      "      \"10000+ employees\",\n",
      "      \"10000+ employees\",\n",
      "      \"10000+ employees\",\n",
      "      \"10000+ employees\",\n",
      "      \"10000+ employees\",\n",
      "      \"10000+ employees\",\n",
      "      \"10000+ employees\",\n",
      "      \"10000+ employees\",\n",
      "      \"10000+ employees\",\n",
      "      \"10000+ employees\",\n",
      "      \"10000+ employees\",\n",
      "      \"10000+ employees\",\n",
      "      \"10000+ employees\",\n",
      "      \"201 to 500.5 employees\",\n",
      "      \"10000+ employees\"\n",
      "    ]\n",
      "  },\n",
      "  \"meta\": {},\n",
      "  \"exception_info\": {\n",
      "    \"raised_exception\": false,\n",
      "    \"exception_traceback\": null,\n",
      "    \"exception_message\": null\n",
      "  }\n",
      "}\n"
     ]
    }
   ],
   "source": [
    "# Step 5\n",
    "# Assuming that its not literally -to- as none are in that format\n",
    "size_pattern = r\"^\\d+ to \\d+ employees$\"\n",
    "print(ge_df.expect_column_values_to_match_regex(\"Size\", size_pattern))"
   ]
  },
  {
   "cell_type": "code",
   "execution_count": 296,
   "metadata": {
    "tags": []
   },
   "outputs": [
    {
     "name": "stdout",
     "output_type": "stream",
     "text": [
      "{\n",
      "  \"success\": false,\n",
      "  \"expectation_config\": {\n",
      "    \"expectation_type\": \"expect_column_values_to_be_between\",\n",
      "    \"kwargs\": {\n",
      "      \"column\": \"Founded\",\n",
      "      \"min_value\": 1800,\n",
      "      \"max_value\": 2024,\n",
      "      \"result_format\": \"BASIC\"\n",
      "    },\n",
      "    \"meta\": {}\n",
      "  },\n",
      "  \"result\": {\n",
      "    \"element_count\": 672,\n",
      "    \"missing_count\": 118,\n",
      "    \"missing_percent\": 17.559523809523807,\n",
      "    \"unexpected_count\": 4,\n",
      "    \"unexpected_percent\": 0.7220216606498195,\n",
      "    \"unexpected_percent_total\": 0.5952380952380952,\n",
      "    \"unexpected_percent_nonmissing\": 0.7220216606498195,\n",
      "    \"partial_unexpected_list\": [\n",
      "      1781,\n",
      "      1003,\n",
      "      1788,\n",
      "      1781\n",
      "    ]\n",
      "  },\n",
      "  \"meta\": {},\n",
      "  \"exception_info\": {\n",
      "    \"raised_exception\": false,\n",
      "    \"exception_traceback\": null,\n",
      "    \"exception_message\": null\n",
      "  }\n",
      "}\n"
     ]
    }
   ],
   "source": [
    "# Step 6\n",
    "print(ge_df.expect_column_values_to_be_between(\"Founded\", 1800, 2024))"
   ]
  },
  {
   "cell_type": "code",
   "execution_count": 298,
   "metadata": {
    "tags": []
   },
   "outputs": [
    {
     "data": {
      "text/html": [
       "<div>\n",
       "<style scoped>\n",
       "    .dataframe tbody tr th:only-of-type {\n",
       "        vertical-align: middle;\n",
       "    }\n",
       "\n",
       "    .dataframe tbody tr th {\n",
       "        vertical-align: top;\n",
       "    }\n",
       "\n",
       "    .dataframe thead th {\n",
       "        text-align: right;\n",
       "    }\n",
       "</style>\n",
       "<table border=\"1\" class=\"dataframe\">\n",
       "  <thead>\n",
       "    <tr style=\"text-align: right;\">\n",
       "      <th></th>\n",
       "      <th>Revenue</th>\n",
       "    </tr>\n",
       "  </thead>\n",
       "  <tbody>\n",
       "    <tr>\n",
       "      <th>32</th>\n",
       "      <td>Unknown / Non-Applicable</td>\n",
       "    </tr>\n",
       "    <tr>\n",
       "      <th>43</th>\n",
       "      <td>Unknown / Non-Applicable</td>\n",
       "    </tr>\n",
       "    <tr>\n",
       "      <th>77</th>\n",
       "      <td>Unknown / Non-Applicable</td>\n",
       "    </tr>\n",
       "    <tr>\n",
       "      <th>118</th>\n",
       "      <td>Unknown / Non-Applicable</td>\n",
       "    </tr>\n",
       "    <tr>\n",
       "      <th>284</th>\n",
       "      <td>Unknown / Non-Applicable</td>\n",
       "    </tr>\n",
       "    <tr>\n",
       "      <th>444</th>\n",
       "      <td>$25 to $50 million (USD)</td>\n",
       "    </tr>\n",
       "    <tr>\n",
       "      <th>488</th>\n",
       "      <td>Unknown / Non-Applicable</td>\n",
       "    </tr>\n",
       "  </tbody>\n",
       "</table>\n",
       "</div>"
      ],
      "text/plain": [
       "                      Revenue\n",
       "32   Unknown / Non-Applicable\n",
       "43   Unknown / Non-Applicable\n",
       "77   Unknown / Non-Applicable\n",
       "118  Unknown / Non-Applicable\n",
       "284  Unknown / Non-Applicable\n",
       "444  $25 to $50 million (USD)\n",
       "488  Unknown / Non-Applicable"
      ]
     },
     "execution_count": 298,
     "metadata": {},
     "output_type": "execute_result"
    }
   ],
   "source": [
    "ge.from_pandas(df.Revenue[df.Founded == 2019]) # Indices still maintained and prof approved"
   ]
  },
  {
   "cell_type": "code",
   "execution_count": 300,
   "metadata": {
    "tags": []
   },
   "outputs": [
    {
     "data": {
      "text/plain": [
       "{\n",
       "  \"success\": false,\n",
       "  \"result\": {\n",
       "    \"element_count\": 7,\n",
       "    \"missing_count\": 0,\n",
       "    \"missing_percent\": 0.0,\n",
       "    \"unexpected_count\": 1,\n",
       "    \"unexpected_percent\": 14.285714285714285,\n",
       "    \"unexpected_percent_total\": 14.285714285714285,\n",
       "    \"unexpected_percent_nonmissing\": 14.285714285714285,\n",
       "    \"partial_unexpected_list\": [\n",
       "      \"$25 to $50 million (USD)\"\n",
       "    ]\n",
       "  },\n",
       "  \"meta\": {},\n",
       "  \"exception_info\": {\n",
       "    \"raised_exception\": false,\n",
       "    \"exception_traceback\": null,\n",
       "    \"exception_message\": null\n",
       "  }\n",
       "}"
      ]
     },
     "execution_count": 300,
     "metadata": {},
     "output_type": "execute_result"
    }
   ],
   "source": [
    "# Step 7\n",
    "rev_pattern = r\"Unknown / Non-Applicable\"\n",
    "ge.from_pandas(df.Revenue[df.Founded == 2019]).expect_column_values_to_match_regex(\"Revenue\", rev_pattern)\n"
   ]
  },
  {
   "cell_type": "code",
   "execution_count": 302,
   "metadata": {
    "tags": []
   },
   "outputs": [
    {
     "name": "stdout",
     "output_type": "stream",
     "text": [
      "[  6  31  41  45  51  60  73  80  89  90  97 108 109 138 150 155 159 164\n",
      " 168 169 181 187 192 194 204 215 235 237 245 246 252 256 268 272 277 279\n",
      " 286 287 292 295 299 300 321 334 336 347 354 365 370 372 383 395 401 417\n",
      " 420 434 442 444 448 449 452 455 467 468 469 470 471 472 473 474 475 476\n",
      " 477 478 479 480 481 482 483 484 485 486 493 508 509 535 536 548 570 578\n",
      " 581 589 591 594 599 607 611 614 617 631 644 645 651 659 661]\n",
      "105\n"
     ]
    }
   ],
   "source": [
    "#indcies\n",
    "elems = [444] # As we can see above and proff apporved not using GE for everything \n",
    "results = ge_df.validate()\n",
    "for r in results.results:\n",
    "    column = r[\"expectation_config\"][\"kwargs\"][\"column\"]\n",
    "    uni_val = r[\"result\"][\"partial_unexpected_list\"]\n",
    "    elems.extend(df.index[df[column].isin(uni_val)].tolist())\n",
    "\n",
    "print(np.unique(elems))\n",
    "print(len(np.unique(elems)))"
   ]
  }
 ],
 "metadata": {
  "kernelspec": {
   "display_name": "Python 3 (ipykernel)",
   "language": "python",
   "name": "python3"
  },
  "language_info": {
   "codemirror_mode": {
    "name": "ipython",
    "version": 3
   },
   "file_extension": ".py",
   "mimetype": "text/x-python",
   "name": "python",
   "nbconvert_exporter": "python",
   "pygments_lexer": "ipython3",
   "version": "3.11.7"
  }
 },
 "nbformat": 4,
 "nbformat_minor": 4
}
