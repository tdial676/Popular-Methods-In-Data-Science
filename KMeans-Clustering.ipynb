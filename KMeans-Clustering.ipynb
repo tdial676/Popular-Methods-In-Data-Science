{
 "cells": [
  {
   "cell_type": "code",
   "execution_count": 268,
   "id": "7524b3fe-fd9e-4514-b3cd-9438c143eebd",
   "metadata": {
    "tags": []
   },
   "outputs": [],
   "source": [
    "import pandas as pd\n",
    "import numpy as np\n",
    "from sklearn.cluster import KMeans, BisectingKMeans\n",
    "from sklearn.metrics import rand_score\n",
    "from sklearn.decomposition import PCA\n",
    "from sklearn.preprocessing import StandardScaler\n",
    "from sklearn.feature_selection import VarianceThreshold"
   ]
  },
  {
   "cell_type": "code",
   "execution_count": 217,
   "id": "4658516b-92e3-4497-99fe-6d5f39e84b6b",
   "metadata": {
    "tags": []
   },
   "outputs": [
    {
     "data": {
      "text/html": [
       "<div>\n",
       "<style scoped>\n",
       "    .dataframe tbody tr th:only-of-type {\n",
       "        vertical-align: middle;\n",
       "    }\n",
       "\n",
       "    .dataframe tbody tr th {\n",
       "        vertical-align: top;\n",
       "    }\n",
       "\n",
       "    .dataframe thead th {\n",
       "        text-align: right;\n",
       "    }\n",
       "</style>\n",
       "<table border=\"1\" class=\"dataframe\">\n",
       "  <thead>\n",
       "    <tr style=\"text-align: right;\">\n",
       "      <th></th>\n",
       "      <th>danceability</th>\n",
       "      <th>energy</th>\n",
       "      <th>key</th>\n",
       "      <th>loudness</th>\n",
       "      <th>mode</th>\n",
       "      <th>speechiness</th>\n",
       "      <th>acousticness</th>\n",
       "      <th>instrumentalness</th>\n",
       "      <th>liveness</th>\n",
       "      <th>valence</th>\n",
       "      <th>tempo</th>\n",
       "      <th>duration_ms</th>\n",
       "      <th>time_signature</th>\n",
       "    </tr>\n",
       "  </thead>\n",
       "  <tbody>\n",
       "    <tr>\n",
       "      <th>count</th>\n",
       "      <td>42305.000000</td>\n",
       "      <td>42305.000000</td>\n",
       "      <td>42305.000000</td>\n",
       "      <td>42305.000000</td>\n",
       "      <td>42305.000000</td>\n",
       "      <td>42305.000000</td>\n",
       "      <td>42305.000000</td>\n",
       "      <td>42305.000000</td>\n",
       "      <td>42305.000000</td>\n",
       "      <td>42305.000000</td>\n",
       "      <td>42305.000000</td>\n",
       "      <td>42305.000000</td>\n",
       "      <td>42305.000000</td>\n",
       "    </tr>\n",
       "    <tr>\n",
       "      <th>mean</th>\n",
       "      <td>0.639364</td>\n",
       "      <td>0.762516</td>\n",
       "      <td>5.370240</td>\n",
       "      <td>-6.465442</td>\n",
       "      <td>0.549462</td>\n",
       "      <td>0.136561</td>\n",
       "      <td>0.096160</td>\n",
       "      <td>0.283048</td>\n",
       "      <td>0.214079</td>\n",
       "      <td>0.357101</td>\n",
       "      <td>147.474056</td>\n",
       "      <td>250865.846685</td>\n",
       "      <td>3.972580</td>\n",
       "    </tr>\n",
       "    <tr>\n",
       "      <th>std</th>\n",
       "      <td>0.156617</td>\n",
       "      <td>0.183823</td>\n",
       "      <td>3.666145</td>\n",
       "      <td>2.941165</td>\n",
       "      <td>0.497553</td>\n",
       "      <td>0.126168</td>\n",
       "      <td>0.170827</td>\n",
       "      <td>0.370791</td>\n",
       "      <td>0.175576</td>\n",
       "      <td>0.233200</td>\n",
       "      <td>23.844623</td>\n",
       "      <td>102957.713571</td>\n",
       "      <td>0.268342</td>\n",
       "    </tr>\n",
       "    <tr>\n",
       "      <th>min</th>\n",
       "      <td>0.065100</td>\n",
       "      <td>0.000243</td>\n",
       "      <td>0.000000</td>\n",
       "      <td>-33.357000</td>\n",
       "      <td>0.000000</td>\n",
       "      <td>0.022700</td>\n",
       "      <td>0.000001</td>\n",
       "      <td>0.000000</td>\n",
       "      <td>0.010700</td>\n",
       "      <td>0.018700</td>\n",
       "      <td>57.967000</td>\n",
       "      <td>25600.000000</td>\n",
       "      <td>1.000000</td>\n",
       "    </tr>\n",
       "    <tr>\n",
       "      <th>25%</th>\n",
       "      <td>0.524000</td>\n",
       "      <td>0.632000</td>\n",
       "      <td>1.000000</td>\n",
       "      <td>-8.161000</td>\n",
       "      <td>0.000000</td>\n",
       "      <td>0.049100</td>\n",
       "      <td>0.001730</td>\n",
       "      <td>0.000000</td>\n",
       "      <td>0.099600</td>\n",
       "      <td>0.161000</td>\n",
       "      <td>129.931000</td>\n",
       "      <td>179840.000000</td>\n",
       "      <td>4.000000</td>\n",
       "    </tr>\n",
       "    <tr>\n",
       "      <th>50%</th>\n",
       "      <td>0.646000</td>\n",
       "      <td>0.803000</td>\n",
       "      <td>6.000000</td>\n",
       "      <td>-6.234000</td>\n",
       "      <td>1.000000</td>\n",
       "      <td>0.075500</td>\n",
       "      <td>0.016400</td>\n",
       "      <td>0.005940</td>\n",
       "      <td>0.135000</td>\n",
       "      <td>0.322000</td>\n",
       "      <td>144.973000</td>\n",
       "      <td>224760.000000</td>\n",
       "      <td>4.000000</td>\n",
       "    </tr>\n",
       "    <tr>\n",
       "      <th>75%</th>\n",
       "      <td>0.766000</td>\n",
       "      <td>0.923000</td>\n",
       "      <td>9.000000</td>\n",
       "      <td>-4.513000</td>\n",
       "      <td>1.000000</td>\n",
       "      <td>0.193000</td>\n",
       "      <td>0.107000</td>\n",
       "      <td>0.722000</td>\n",
       "      <td>0.294000</td>\n",
       "      <td>0.522000</td>\n",
       "      <td>161.464000</td>\n",
       "      <td>301133.000000</td>\n",
       "      <td>4.000000</td>\n",
       "    </tr>\n",
       "    <tr>\n",
       "      <th>max</th>\n",
       "      <td>0.988000</td>\n",
       "      <td>1.000000</td>\n",
       "      <td>11.000000</td>\n",
       "      <td>3.148000</td>\n",
       "      <td>1.000000</td>\n",
       "      <td>0.946000</td>\n",
       "      <td>0.988000</td>\n",
       "      <td>0.989000</td>\n",
       "      <td>0.988000</td>\n",
       "      <td>0.988000</td>\n",
       "      <td>220.290000</td>\n",
       "      <td>913052.000000</td>\n",
       "      <td>5.000000</td>\n",
       "    </tr>\n",
       "  </tbody>\n",
       "</table>\n",
       "</div>"
      ],
      "text/plain": [
       "       danceability        energy           key      loudness          mode  \\\n",
       "count  42305.000000  42305.000000  42305.000000  42305.000000  42305.000000   \n",
       "mean       0.639364      0.762516      5.370240     -6.465442      0.549462   \n",
       "std        0.156617      0.183823      3.666145      2.941165      0.497553   \n",
       "min        0.065100      0.000243      0.000000    -33.357000      0.000000   \n",
       "25%        0.524000      0.632000      1.000000     -8.161000      0.000000   \n",
       "50%        0.646000      0.803000      6.000000     -6.234000      1.000000   \n",
       "75%        0.766000      0.923000      9.000000     -4.513000      1.000000   \n",
       "max        0.988000      1.000000     11.000000      3.148000      1.000000   \n",
       "\n",
       "        speechiness  acousticness  instrumentalness      liveness  \\\n",
       "count  42305.000000  42305.000000      42305.000000  42305.000000   \n",
       "mean       0.136561      0.096160          0.283048      0.214079   \n",
       "std        0.126168      0.170827          0.370791      0.175576   \n",
       "min        0.022700      0.000001          0.000000      0.010700   \n",
       "25%        0.049100      0.001730          0.000000      0.099600   \n",
       "50%        0.075500      0.016400          0.005940      0.135000   \n",
       "75%        0.193000      0.107000          0.722000      0.294000   \n",
       "max        0.946000      0.988000          0.989000      0.988000   \n",
       "\n",
       "            valence         tempo    duration_ms  time_signature  \n",
       "count  42305.000000  42305.000000   42305.000000    42305.000000  \n",
       "mean       0.357101    147.474056  250865.846685        3.972580  \n",
       "std        0.233200     23.844623  102957.713571        0.268342  \n",
       "min        0.018700     57.967000   25600.000000        1.000000  \n",
       "25%        0.161000    129.931000  179840.000000        4.000000  \n",
       "50%        0.322000    144.973000  224760.000000        4.000000  \n",
       "75%        0.522000    161.464000  301133.000000        4.000000  \n",
       "max        0.988000    220.290000  913052.000000        5.000000  "
      ]
     },
     "metadata": {},
     "output_type": "display_data"
    }
   ],
   "source": [
    "df = pd.read_excel('hw-6-dataset.xlsx')\n",
    "X = df.iloc[:,:-1]\n",
    "Y = df.iloc[:,-1:]\n",
    "display(df.describe() )\n",
    "scaler = StandardScaler()\n",
    "X_scaled = scaler.fit_transform(X)"
   ]
  },
  {
   "cell_type": "code",
   "execution_count": 223,
   "id": "1236a506-0d0e-4378-a8f9-ba505c00004b",
   "metadata": {
    "tags": []
   },
   "outputs": [
    {
     "name": "stdout",
     "output_type": "stream",
     "text": [
      "0.8522489366088528\n"
     ]
    }
   ],
   "source": [
    "#Experiment 1: K Means Clustering using all features as a basis\n",
    "# 15 cluster because we have 15 genres\n",
    "m1 = KMeans(n_clusters=15, random_state=0, n_init=\"auto\").fit_predict(X)\n",
    "rand_score_m1 = rand_score(Y.squeeze(), m1)\n",
    "print(rand_score_m1)"
   ]
  },
  {
   "cell_type": "code",
   "execution_count": 227,
   "id": "44c454f3-0b26-40d9-802d-49924465b225",
   "metadata": {
    "tags": []
   },
   "outputs": [
    {
     "name": "stdout",
     "output_type": "stream",
     "text": [
      "0.8729398310768587\n"
     ]
    }
   ],
   "source": [
    "#Experiemtn 2: K Means Clustering with normalized data to account for \n",
    "# the huge mean differences as seen before due to scaling.\n",
    "m2 = KMeans(n_clusters=15, random_state=0, n_init=\"auto\").fit_predict(X_scaled)\n",
    "rand_score_m2 = rand_score(Y.squeeze(), m2)\n",
    "print(rand_score_m2)"
   ]
  },
  {
   "cell_type": "code",
   "execution_count": 278,
   "id": "e68ebe76-5d67-4978-9c27-a6ca48c9792f",
   "metadata": {
    "tags": []
   },
   "outputs": [
    {
     "name": "stdout",
     "output_type": "stream",
     "text": [
      "0.882754147086901\n"
     ]
    }
   ],
   "source": [
    "#Experiemtn 3: K Means Clustering with normalized data as it performed better\n",
    "# using it. Then we will try to reduce dimmensions using PCA to kepp only the most\n",
    "# relevant feautres.\n",
    "pca = PCA(n_components=3) # 3 features yielded the highest rand_score\n",
    "X_pca = pca.fit_transform(X_scaled)\n",
    "m3 = KMeans(n_clusters=15, random_state=0, n_init=\"auto\").fit_predict(X_pca)\n",
    "rand_score_m3 = rand_score(Y.squeeze(), m3)\n",
    "print(rand_score_m3)"
   ]
  }
 ],
 "metadata": {
  "kernelspec": {
   "display_name": "Python 3 (ipykernel)",
   "language": "python",
   "name": "python3"
  },
  "language_info": {
   "codemirror_mode": {
    "name": "ipython",
    "version": 3
   },
   "file_extension": ".py",
   "mimetype": "text/x-python",
   "name": "python",
   "nbconvert_exporter": "python",
   "pygments_lexer": "ipython3",
   "version": "3.11.7"
  }
 },
 "nbformat": 4,
 "nbformat_minor": 5
}
